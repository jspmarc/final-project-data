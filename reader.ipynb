{
 "cells": [
  {
   "cell_type": "code",
   "execution_count": 184,
   "id": "5e215e8a-3acb-4560-89e8-1c9cbe182ddb",
   "metadata": {},
   "outputs": [],
   "source": [
    "import pandas as pd\n",
    "import numpy as np\n",
    "import matplotlib.pyplot as plt"
   ]
  },
  {
   "cell_type": "markdown",
   "id": "c52947ba-1db0-4ff6-943f-439b4ddaf6a5",
   "metadata": {},
   "source": [
    "# Funtion and Constants Definition"
   ]
  },
  {
   "cell_type": "code",
   "execution_count": 120,
   "id": "c36f6725-5673-4674-84c9-f60488f60dd7",
   "metadata": {},
   "outputs": [],
   "source": [
    "COLS = [\"type\", \"time (ms)\"]\n",
    "\n",
    "DATA_NEW_HILS_PREFIX = \"./data/new-hils/\"\n",
    "DATA_NEW_HILS_1_PREFIX = f\"{DATA_NEW_HILS_PREFIX}/2023-07-22_001/\"\n",
    "DATA_NEW_HILS_2_PREFIX = f\"{DATA_NEW_HILS_PREFIX}/2023-07-22_002/\"\n",
    "\n",
    "DATA_OLD_HILS_PREFIX = \"./data/old-hils/\"\n",
    "\n",
    "DATA_RKB_PREFIX = \"./data/rkb/\""
   ]
  },
  {
   "cell_type": "code",
   "execution_count": 114,
   "id": "edca731c-f9db-4a18-877b-5fcc9773c32e",
   "metadata": {},
   "outputs": [],
   "source": [
    "def remove_outlier_using_turkey_method(ser: pd.Series):\n",
    "    q1 = ser.quantile(0.25)\n",
    "    q3 = ser.quantile(0.75)\n",
    "    iqr = q3 - q1\n",
    "    print(q1, q3, iqr)\n",
    "    lb = q1 - 1.5 * iqr\n",
    "    ub = q3 + 1.5 * iqr\n",
    "    return ser[(ser >= lb) & (ser <= ub)]\n",
    "\n",
    "def get_real_rtt(df_raw_rtt: pd.DataFrame, df_process_latency: pd.DataFrame):\n",
    "    time = COLS[1]\n",
    "    ser = pd.Series()\n",
    "    ser = df_raw_rtt[time] - df_process_latency[time]\n",
    "    return ser"
   ]
  },
  {
   "cell_type": "markdown",
   "id": "b7ea0103-4f99-4918-937d-d24b48582bdd",
   "metadata": {},
   "source": [
    "# ZeroMQ RTT and Latency\n",
    "\n",
    "This section calculates the RTT (round trip time) and latency of ZeroMQ. Latency is approximated with the formula:\n",
    "$$\n",
    "\\text{latency} \\approx \\frac{\\text{RTT}}{2}\n",
    "$$\n",
    "\n",
    "The round trip time is\n",
    "$$\n",
    "\\text{RTT} = \\text{send a sensor data time} - \\text{process time} + \\text{send control time} \n",
    "$$\n",
    "For testing, the sensor that will be used is camera. This is because only 2 sensors are used: GNSS and camera and camera has the largest data size between the two. To get the worst case scenario, we are choosing the sensor with the biggest data.\n",
    "\n",
    "Also a note, because the camera data is large it is split into chunks and each chunk is sent one by one as a multipart message. But, we will calculate the RTT from the first chunk. The reason for choosing the first chunk so we get the latency of sending the whole camera data. Fortunately, this shouldn't really affect the calculation of the whole RTT as seen in [Camera Receive Time](#camera-receive-time) section."
   ]
  },
  {
   "cell_type": "code",
   "execution_count": 122,
   "id": "f7567f7b-cfc1-4ede-b9fa-0baf6642d6e3",
   "metadata": {},
   "outputs": [],
   "source": [
    "raw_rtt_1 = pd.read_csv(DATA_NEW_HILS_1_PREFIX + \"log_delta_time_raw_rtt.csv\", names=COLS, header=None)\n",
    "raw_rtt_2 = pd.read_csv(DATA_NEW_HILS_2_PREFIX + \"log_delta_time_raw_rtt.csv\", names=COLS, header=None)\n",
    "process_latency_1 = pd.read_csv(DATA_NEW_HILS_1_PREFIX + \"log_delta_time_process_latency.csv\", names=COLS, header=None)\n",
    "process_latency_2 = pd.read_csv(DATA_NEW_HILS_2_PREFIX + \"log_delta_time_process_latency.csv\", names=COLS, header=None)"
   ]
  },
  {
   "cell_type": "code",
   "execution_count": 123,
   "id": "15501edd-bb3a-4ed8-82f8-35afd5203ce0",
   "metadata": {},
   "outputs": [
    {
     "data": {
      "text/html": [
       "<div>\n",
       "<style scoped>\n",
       "    .dataframe tbody tr th:only-of-type {\n",
       "        vertical-align: middle;\n",
       "    }\n",
       "\n",
       "    .dataframe tbody tr th {\n",
       "        vertical-align: top;\n",
       "    }\n",
       "\n",
       "    .dataframe thead th {\n",
       "        text-align: right;\n",
       "    }\n",
       "</style>\n",
       "<table border=\"1\" class=\"dataframe\">\n",
       "  <thead>\n",
       "    <tr style=\"text-align: right;\">\n",
       "      <th></th>\n",
       "      <th>type</th>\n",
       "      <th>time (ms)</th>\n",
       "    </tr>\n",
       "  </thead>\n",
       "  <tbody>\n",
       "    <tr>\n",
       "      <th>3121</th>\n",
       "      <td>ZEROMQ_RAW_RTT_3121</td>\n",
       "      <td>62</td>\n",
       "    </tr>\n",
       "    <tr>\n",
       "      <th>3122</th>\n",
       "      <td>ZEROMQ_RAW_RTT_3122</td>\n",
       "      <td>63</td>\n",
       "    </tr>\n",
       "    <tr>\n",
       "      <th>3123</th>\n",
       "      <td>ZEROMQ_RAW_RTT_3123</td>\n",
       "      <td>60</td>\n",
       "    </tr>\n",
       "    <tr>\n",
       "      <th>3124</th>\n",
       "      <td>ZEROMQ_RAW_RTT_3124</td>\n",
       "      <td>63</td>\n",
       "    </tr>\n",
       "    <tr>\n",
       "      <th>3125</th>\n",
       "      <td>ZEROMQ_RAW_RTT_3125</td>\n",
       "      <td>66</td>\n",
       "    </tr>\n",
       "  </tbody>\n",
       "</table>\n",
       "</div>"
      ],
      "text/plain": [
       "                     type  time (ms)\n",
       "3121  ZEROMQ_RAW_RTT_3121         62\n",
       "3122  ZEROMQ_RAW_RTT_3122         63\n",
       "3123  ZEROMQ_RAW_RTT_3123         60\n",
       "3124  ZEROMQ_RAW_RTT_3124         63\n",
       "3125  ZEROMQ_RAW_RTT_3125         66"
      ]
     },
     "execution_count": 123,
     "metadata": {},
     "output_type": "execute_result"
    }
   ],
   "source": [
    "raw_rtt_1.tail()"
   ]
  },
  {
   "cell_type": "code",
   "execution_count": 124,
   "id": "e4688c2c-127e-4649-870a-423bfb3e1cd4",
   "metadata": {},
   "outputs": [
    {
     "name": "stdout",
     "output_type": "stream",
     "text": [
      "11.0 25.0 14.0\n",
      "21.0 25.0 4.0\n"
     ]
    },
    {
     "data": {
      "text/plain": [
       "count    16891.000000\n",
       "mean        21.979930\n",
       "std          4.497563\n",
       "min          9.000000\n",
       "25%         20.000000\n",
       "50%         22.000000\n",
       "75%         25.000000\n",
       "max         39.000000\n",
       "dtype: float64"
      ]
     },
     "execution_count": 124,
     "metadata": {},
     "output_type": "execute_result"
    }
   ],
   "source": [
    "real_rtt_1 = get_real_rtt(raw_rtt_1, process_latency_1)\n",
    "real_rtt_1 = remove_outlier_using_turkey_method(real_rtt_1)\n",
    "\n",
    "real_rtt_2 = get_real_rtt(raw_rtt_2, process_latency_2)\n",
    "real_rtt_2 = remove_outlier_using_turkey_method(real_rtt_2)\n",
    "\n",
    "real_rtt = np.append(real_rtt_1.to_numpy(), real_rtt_2.to_numpy())\n",
    "real_rtt = pd.Series(real_rtt)\n",
    "real_rtt.describe()"
   ]
  },
  {
   "cell_type": "code",
   "execution_count": 125,
   "id": "24e1a646-02d7-4434-87ea-4cfaaa5e7c5f",
   "metadata": {},
   "outputs": [
    {
     "data": {
      "text/plain": [
       "count    16891.000000\n",
       "mean        10.989965\n",
       "std          2.248782\n",
       "min          4.500000\n",
       "25%         10.000000\n",
       "50%         11.000000\n",
       "75%         12.500000\n",
       "max         19.500000\n",
       "dtype: float64"
      ]
     },
     "execution_count": 125,
     "metadata": {},
     "output_type": "execute_result"
    }
   ],
   "source": [
    "latencies = real_rtt / 2\n",
    "latencies.describe()"
   ]
  },
  {
   "cell_type": "code",
   "execution_count": 185,
   "id": "67b359e3-fdcb-437a-93cd-6e056613971d",
   "metadata": {},
   "outputs": [
    {
     "data": {
      "image/png": "[encoded data removed]",
      "text/plain": [
       "<Figure size 640x480 with 1 Axes>"
      ]
     },
     "metadata": {},
     "output_type": "display_data"
    }
   ],
   "source": [
    "plt.hist(latencies)\n",
    "plt.show()"
   ]
  },
  {
   "cell_type": "markdown",
   "id": "52706721-799c-4f2d-bf86-46774eca0983",
   "metadata": {},
   "source": [
    "# Camera Receive Time\n",
    "\n",
    "This section shows the difference in time received for each chunk of camera data."
   ]
  },
  {
   "cell_type": "code",
   "execution_count": 236,
   "id": "de0b4b1a-5724-4f4c-a6a8-845f6c219851",
   "metadata": {},
   "outputs": [],
   "source": [
    "rkb_log_time = pd.read_csv(DATA_RKB_PREFIX + \"log_time.csv\", names=COLS, header=None)\n",
    "valid_types = [f\"ZEROMQ_ZMQ_ENDPOINT_CAMERA_RECEIVE_{i}\" for i in range(100)]"
   ]
  },
  {
   "cell_type": "code",
   "execution_count": 237,
   "id": "d266e3d6-e3b9-4e81-b058-e87372932bd8",
   "metadata": {},
   "outputs": [],
   "source": [
    "receive_time[COLS[1]] = np.floor(rkb_log_time[COLS[1]] / 1_000_000).astype(np.uint64)\n",
    "receive_time = receive_time[receive_time[COLS[0]].isin(valid_types)]"
   ]
  },
  {
   "cell_type": "code",
   "execution_count": 238,
   "id": "989a7633-7f67-4e57-ab13-02f75701f380",
   "metadata": {},
   "outputs": [
    {
     "data": {
      "text/html": [
       "<div>\n",
       "<style scoped>\n",
       "    .dataframe tbody tr th:only-of-type {\n",
       "        vertical-align: middle;\n",
       "    }\n",
       "\n",
       "    .dataframe tbody tr th {\n",
       "        vertical-align: top;\n",
       "    }\n",
       "\n",
       "    .dataframe thead th {\n",
       "        text-align: right;\n",
       "    }\n",
       "</style>\n",
       "<table border=\"1\" class=\"dataframe\">\n",
       "  <thead>\n",
       "    <tr style=\"text-align: right;\">\n",
       "      <th></th>\n",
       "      <th>type</th>\n",
       "      <th>time (ms)</th>\n",
       "    </tr>\n",
       "  </thead>\n",
       "  <tbody>\n",
       "    <tr>\n",
       "      <th>1</th>\n",
       "      <td>ZEROMQ_ZMQ_ENDPOINT_CAMERA_RECEIVE_0</td>\n",
       "      <td>1687430302976</td>\n",
       "    </tr>\n",
       "    <tr>\n",
       "      <th>2</th>\n",
       "      <td>ZEROMQ_ZMQ_ENDPOINT_CAMERA_RECEIVE_1</td>\n",
       "      <td>1687430302976</td>\n",
       "    </tr>\n",
       "    <tr>\n",
       "      <th>3</th>\n",
       "      <td>ZEROMQ_ZMQ_ENDPOINT_CAMERA_RECEIVE_2</td>\n",
       "      <td>1687430302976</td>\n",
       "    </tr>\n",
       "    <tr>\n",
       "      <th>4</th>\n",
       "      <td>ZEROMQ_ZMQ_ENDPOINT_CAMERA_RECEIVE_3</td>\n",
       "      <td>1687430302977</td>\n",
       "    </tr>\n",
       "    <tr>\n",
       "      <th>5</th>\n",
       "      <td>ZEROMQ_ZMQ_ENDPOINT_CAMERA_RECEIVE_4</td>\n",
       "      <td>1687430302977</td>\n",
       "    </tr>\n",
       "    <tr>\n",
       "      <th>6</th>\n",
       "      <td>ZEROMQ_ZMQ_ENDPOINT_CAMERA_RECEIVE_5</td>\n",
       "      <td>1687430302977</td>\n",
       "    </tr>\n",
       "    <tr>\n",
       "      <th>7</th>\n",
       "      <td>ZEROMQ_ZMQ_ENDPOINT_CAMERA_RECEIVE_6</td>\n",
       "      <td>1687430302977</td>\n",
       "    </tr>\n",
       "    <tr>\n",
       "      <th>8</th>\n",
       "      <td>ZEROMQ_ZMQ_ENDPOINT_CAMERA_RECEIVE_7</td>\n",
       "      <td>1687430302977</td>\n",
       "    </tr>\n",
       "    <tr>\n",
       "      <th>9</th>\n",
       "      <td>ZEROMQ_ZMQ_ENDPOINT_CAMERA_RECEIVE_8</td>\n",
       "      <td>1687430302977</td>\n",
       "    </tr>\n",
       "    <tr>\n",
       "      <th>10</th>\n",
       "      <td>ZEROMQ_ZMQ_ENDPOINT_CAMERA_RECEIVE_9</td>\n",
       "      <td>1687430302977</td>\n",
       "    </tr>\n",
       "    <tr>\n",
       "      <th>11</th>\n",
       "      <td>ZEROMQ_ZMQ_ENDPOINT_CAMERA_RECEIVE_10</td>\n",
       "      <td>1687430302977</td>\n",
       "    </tr>\n",
       "  </tbody>\n",
       "</table>\n",
       "</div>"
      ],
      "text/plain": [
       "                                     type      time (ms)\n",
       "1    ZEROMQ_ZMQ_ENDPOINT_CAMERA_RECEIVE_0  1687430302976\n",
       "2    ZEROMQ_ZMQ_ENDPOINT_CAMERA_RECEIVE_1  1687430302976\n",
       "3    ZEROMQ_ZMQ_ENDPOINT_CAMERA_RECEIVE_2  1687430302976\n",
       "4    ZEROMQ_ZMQ_ENDPOINT_CAMERA_RECEIVE_3  1687430302977\n",
       "5    ZEROMQ_ZMQ_ENDPOINT_CAMERA_RECEIVE_4  1687430302977\n",
       "6    ZEROMQ_ZMQ_ENDPOINT_CAMERA_RECEIVE_5  1687430302977\n",
       "7    ZEROMQ_ZMQ_ENDPOINT_CAMERA_RECEIVE_6  1687430302977\n",
       "8    ZEROMQ_ZMQ_ENDPOINT_CAMERA_RECEIVE_7  1687430302977\n",
       "9    ZEROMQ_ZMQ_ENDPOINT_CAMERA_RECEIVE_8  1687430302977\n",
       "10   ZEROMQ_ZMQ_ENDPOINT_CAMERA_RECEIVE_9  1687430302977\n",
       "11  ZEROMQ_ZMQ_ENDPOINT_CAMERA_RECEIVE_10  1687430302977"
      ]
     },
     "execution_count": 238,
     "metadata": {},
     "output_type": "execute_result"
    }
   ],
   "source": [
    "receive_time.head(11)"
   ]
  },
  {
   "cell_type": "code",
   "execution_count": 286,
   "id": "d9256039-5f79-4d43-9d43-3aa8e09283bb",
   "metadata": {},
   "outputs": [],
   "source": [
    "receive_time_chunks = np.array_split(receive_time, receive_time.shape[0] / 11)"
   ]
  },
  {
   "cell_type": "code",
   "execution_count": 290,
   "id": "54edb41d-6556-4d2c-aedf-ca13b0786994",
   "metadata": {},
   "outputs": [
    {
     "data": {
      "text/html": [
       "<div>\n",
       "<style scoped>\n",
       "    .dataframe tbody tr th:only-of-type {\n",
       "        vertical-align: middle;\n",
       "    }\n",
       "\n",
       "    .dataframe tbody tr th {\n",
       "        vertical-align: top;\n",
       "    }\n",
       "\n",
       "    .dataframe thead th {\n",
       "        text-align: right;\n",
       "    }\n",
       "</style>\n",
       "<table border=\"1\" class=\"dataframe\">\n",
       "  <thead>\n",
       "    <tr style=\"text-align: right;\">\n",
       "      <th></th>\n",
       "      <th>type</th>\n",
       "      <th>time (ms)</th>\n",
       "    </tr>\n",
       "  </thead>\n",
       "  <tbody>\n",
       "    <tr>\n",
       "      <th>3</th>\n",
       "      <td>diff to previous</td>\n",
       "      <td>0.0</td>\n",
       "    </tr>\n",
       "    <tr>\n",
       "      <th>4</th>\n",
       "      <td>diff to previous</td>\n",
       "      <td>1.0</td>\n",
       "    </tr>\n",
       "    <tr>\n",
       "      <th>5</th>\n",
       "      <td>diff to previous</td>\n",
       "      <td>-1.0</td>\n",
       "    </tr>\n",
       "    <tr>\n",
       "      <th>6</th>\n",
       "      <td>diff to previous</td>\n",
       "      <td>0.0</td>\n",
       "    </tr>\n",
       "    <tr>\n",
       "      <th>7</th>\n",
       "      <td>diff to previous</td>\n",
       "      <td>0.0</td>\n",
       "    </tr>\n",
       "    <tr>\n",
       "      <th>8</th>\n",
       "      <td>diff to previous</td>\n",
       "      <td>0.0</td>\n",
       "    </tr>\n",
       "    <tr>\n",
       "      <th>9</th>\n",
       "      <td>diff to previous</td>\n",
       "      <td>0.0</td>\n",
       "    </tr>\n",
       "    <tr>\n",
       "      <th>10</th>\n",
       "      <td>diff to previous</td>\n",
       "      <td>0.0</td>\n",
       "    </tr>\n",
       "    <tr>\n",
       "      <th>11</th>\n",
       "      <td>diff to previous</td>\n",
       "      <td>0.0</td>\n",
       "    </tr>\n",
       "  </tbody>\n",
       "</table>\n",
       "</div>"
      ],
      "text/plain": [
       "                type  time (ms)\n",
       "3   diff to previous        0.0\n",
       "4   diff to previous        1.0\n",
       "5   diff to previous       -1.0\n",
       "6   diff to previous        0.0\n",
       "7   diff to previous        0.0\n",
       "8   diff to previous        0.0\n",
       "9   diff to previous        0.0\n",
       "10  diff to previous        0.0\n",
       "11  diff to previous        0.0"
      ]
     },
     "execution_count": 290,
     "metadata": {},
     "output_type": "execute_result"
    }
   ],
   "source": [
    "for chunk in receive_time_chunks:\n",
    "    chunk[COLS[0]] = \"diff to previous\"\n",
    "    chunk[COLS[1]] = chunk[COLS[1]].diff()\n",
    "    chunk.dropna(inplace=True)\n",
    "receive_time_chunks[0]"
   ]
  },
  {
   "cell_type": "code",
   "execution_count": 291,
   "id": "c1c1b252-5ca0-41c0-8c9c-11a272ad66a5",
   "metadata": {},
   "outputs": [
    {
     "data": {
      "text/html": [
       "<div>\n",
       "<style scoped>\n",
       "    .dataframe tbody tr th:only-of-type {\n",
       "        vertical-align: middle;\n",
       "    }\n",
       "\n",
       "    .dataframe tbody tr th {\n",
       "        vertical-align: top;\n",
       "    }\n",
       "\n",
       "    .dataframe thead th {\n",
       "        text-align: right;\n",
       "    }\n",
       "</style>\n",
       "<table border=\"1\" class=\"dataframe\">\n",
       "  <thead>\n",
       "    <tr style=\"text-align: right;\">\n",
       "      <th></th>\n",
       "      <th>time (ms)</th>\n",
       "    </tr>\n",
       "  </thead>\n",
       "  <tbody>\n",
       "    <tr>\n",
       "      <th>count</th>\n",
       "      <td>166482.000000</td>\n",
       "    </tr>\n",
       "    <tr>\n",
       "      <th>mean</th>\n",
       "      <td>-0.002301</td>\n",
       "    </tr>\n",
       "    <tr>\n",
       "      <th>std</th>\n",
       "      <td>0.201360</td>\n",
       "    </tr>\n",
       "    <tr>\n",
       "      <th>min</th>\n",
       "      <td>-1.000000</td>\n",
       "    </tr>\n",
       "    <tr>\n",
       "      <th>25%</th>\n",
       "      <td>0.000000</td>\n",
       "    </tr>\n",
       "    <tr>\n",
       "      <th>50%</th>\n",
       "      <td>0.000000</td>\n",
       "    </tr>\n",
       "    <tr>\n",
       "      <th>75%</th>\n",
       "      <td>0.000000</td>\n",
       "    </tr>\n",
       "    <tr>\n",
       "      <th>max</th>\n",
       "      <td>1.000000</td>\n",
       "    </tr>\n",
       "  </tbody>\n",
       "</table>\n",
       "</div>"
      ],
      "text/plain": [
       "           time (ms)\n",
       "count  166482.000000\n",
       "mean       -0.002301\n",
       "std         0.201360\n",
       "min        -1.000000\n",
       "25%         0.000000\n",
       "50%         0.000000\n",
       "75%         0.000000\n",
       "max         1.000000"
      ]
     },
     "execution_count": 291,
     "metadata": {},
     "output_type": "execute_result"
    }
   ],
   "source": [
    "receive_time_diff = pd.concat(receive_time_chunks)\n",
    "receive_time_diff.describe()"
   ]
  },
  {
   "cell_type": "code",
   "execution_count": 289,
   "id": "2003cb63-30e9-4a50-9d01-995f63888f6c",
   "metadata": {},
   "outputs": [
    {
     "data": {
      "image/png": "[encoded data removed]",
      "text/plain": [
       "<Figure size 640x480 with 1 Axes>"
      ]
     },
     "metadata": {},
     "output_type": "display_data"
    }
   ],
   "source": [
    "plt.hist(receive_time_diff[COLS[1]])\n",
    "plt.show()"
   ]
  },
  {
   "cell_type": "markdown",
   "id": "7f97a9e9-63f7-482f-8461-4ab9b6aae096",
   "metadata": {},
   "source": [
    "As can be seen, the difference in latency caused by chunking the camera frame is negligible. As the difference of time between each chunk is either 0 or 1, with most of the data being 0."
   ]
  },
  {
   "cell_type": "markdown",
   "id": "7c0402e5-9485-4a6c-9b60-c4ae4103d554",
   "metadata": {},
   "source": [
    "# Old HILS \"Scientific\" Latency\n",
    "\n",
    "This section calculates the latency of the old HILS connector implementation. The details of the implementation can be seen in the paper or the book. This part only calculates latency during the process of sending data from a \"sender\" (produces sensor data) to a \"receiver\" (consumer of sensor data). The latency is only scientific and not real because the HTTP latency is not accounted for."
   ]
  }
 ],
 "metadata": {
  "kernelspec": {
   "display_name": "Python 3 (ipykernel)",
   "language": "python",
   "name": "python3"
  },
  "language_info": {
   "codemirror_mode": {
    "name": "ipython",
    "version": 3
   },
   "file_extension": ".py",
   "mimetype": "text/x-python",
   "name": "python",
   "nbconvert_exporter": "python",
   "pygments_lexer": "ipython3",
   "version": "3.11.3"
  }
 },
 "nbformat": 4,
 "nbformat_minor": 5
}
