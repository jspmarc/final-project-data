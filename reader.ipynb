{
 "cells": [
  {
   "cell_type": "code",
   "execution_count": 113,
   "id": "5e215e8a-3acb-4560-89e8-1c9cbe182ddb",
   "metadata": {},
   "outputs": [],
   "source": [
    "import pandas as pd\n",
    "import numpy as np"
   ]
  },
  {
   "cell_type": "markdown",
   "id": "c52947ba-1db0-4ff6-943f-439b4ddaf6a5",
   "metadata": {},
   "source": [
    "# Funtion and Constants Definition"
   ]
  },
  {
   "cell_type": "code",
   "execution_count": 21,
   "id": "c36f6725-5673-4674-84c9-f60488f60dd7",
   "metadata": {},
   "outputs": [],
   "source": [
    "COLS = [\"type\", \"time (ms)\"]"
   ]
  },
  {
   "cell_type": "code",
   "execution_count": 114,
   "id": "edca731c-f9db-4a18-877b-5fcc9773c32e",
   "metadata": {},
   "outputs": [],
   "source": [
    "def remove_outlier_using_turkey_method(ser: pd.Series):\n",
    "    q1 = ser.quantile(0.25)\n",
    "    q3 = ser.quantile(0.75)\n",
    "    iqr = q3 - q1\n",
    "    print(q1, q3, iqr)\n",
    "    lb = q1 - 1.5 * iqr\n",
    "    ub = q3 + 1.5 * iqr\n",
    "    return ser[(ser >= lb) & (ser <= ub)]\n",
    "\n",
    "def get_real_rtt(df_raw_rtt: pd.DataFrame, df_process_latency: pd.DataFrame):\n",
    "    time = COLS[1]\n",
    "    ser = pd.Series()\n",
    "    ser = df_raw_rtt[time] - df_process_latency[time]\n",
    "    return ser"
   ]
  },
  {
   "cell_type": "markdown",
   "id": "b7ea0103-4f99-4918-937d-d24b48582bdd",
   "metadata": {},
   "source": [
    "# ZeroMQ RTT and Latency\n",
    "\n",
    "This section calculates the RTT (round trip time) and latency of ZeroMQ. Latency is approximated with the formula:\n",
    "$$\n",
    "\\text{latency} \\approx \\frac{\\text{RTT}}{2}\n",
    "$$\n",
    "\n",
    "The round trip time is\n",
    "$$\n",
    "\\text{RTT} = \\text{send a sensor data time} - \\text{process time} + \\text{send control time} \n",
    "$$\n",
    "For testing, the sensor that will be used is camera. This is because only 2 sensors are used: GNSS and camera and camera has the largest data size between the two."
   ]
  },
  {
   "cell_type": "code",
   "execution_count": 100,
   "id": "f7567f7b-cfc1-4ede-b9fa-0baf6642d6e3",
   "metadata": {},
   "outputs": [],
   "source": [
    "raw_rtt_1 = pd.read_csv(\"./raw_rtt_001.csv\", names=COLS, header=None)\n",
    "raw_rtt_2 = pd.read_csv(\"./raw_rtt_002.csv\", names=COLS, header=None)\n",
    "process_latency_1 = pd.read_csv(\"./process_latency_001.csv\", names=COLS, header=None)\n",
    "process_latency_2 = pd.read_csv(\"./process_latency_002.csv\", names=COLS, header=None)"
   ]
  },
  {
   "cell_type": "code",
   "execution_count": 101,
   "id": "15501edd-bb3a-4ed8-82f8-35afd5203ce0",
   "metadata": {},
   "outputs": [
    {
     "data": {
      "text/html": [
       "<div>\n",
       "<style scoped>\n",
       "    .dataframe tbody tr th:only-of-type {\n",
       "        vertical-align: middle;\n",
       "    }\n",
       "\n",
       "    .dataframe tbody tr th {\n",
       "        vertical-align: top;\n",
       "    }\n",
       "\n",
       "    .dataframe thead th {\n",
       "        text-align: right;\n",
       "    }\n",
       "</style>\n",
       "<table border=\"1\" class=\"dataframe\">\n",
       "  <thead>\n",
       "    <tr style=\"text-align: right;\">\n",
       "      <th></th>\n",
       "      <th>type</th>\n",
       "      <th>time (ms)</th>\n",
       "    </tr>\n",
       "  </thead>\n",
       "  <tbody>\n",
       "    <tr>\n",
       "      <th>11775</th>\n",
       "      <td>ZEROMQ_RAW_RTT_11775</td>\n",
       "      <td>57</td>\n",
       "    </tr>\n",
       "    <tr>\n",
       "      <th>11776</th>\n",
       "      <td>ZEROMQ_RAW_RTT_11776</td>\n",
       "      <td>56</td>\n",
       "    </tr>\n",
       "    <tr>\n",
       "      <th>11777</th>\n",
       "      <td>ZEROMQ_RAW_RTT_11777</td>\n",
       "      <td>55</td>\n",
       "    </tr>\n",
       "    <tr>\n",
       "      <th>11778</th>\n",
       "      <td>ZEROMQ_RAW_RTT_11778</td>\n",
       "      <td>59</td>\n",
       "    </tr>\n",
       "    <tr>\n",
       "      <th>11779</th>\n",
       "      <td>ZEROMQ_RAW_RTT_11779</td>\n",
       "      <td>58</td>\n",
       "    </tr>\n",
       "  </tbody>\n",
       "</table>\n",
       "</div>"
      ],
      "text/plain": [
       "                       type  time (ms)\n",
       "11775  ZEROMQ_RAW_RTT_11775         57\n",
       "11776  ZEROMQ_RAW_RTT_11776         56\n",
       "11777  ZEROMQ_RAW_RTT_11777         55\n",
       "11778  ZEROMQ_RAW_RTT_11778         59\n",
       "11779  ZEROMQ_RAW_RTT_11779         58"
      ]
     },
     "execution_count": 101,
     "metadata": {},
     "output_type": "execute_result"
    }
   ],
   "source": [
    "raw_rtt_1.tail()"
   ]
  },
  {
   "cell_type": "code",
   "execution_count": 118,
   "id": "e4688c2c-127e-4649-870a-423bfb3e1cd4",
   "metadata": {},
   "outputs": [
    {
     "name": "stdout",
     "output_type": "stream",
     "text": [
      "9.0 10.0 1.0\n",
      "9.0 10.0 1.0\n"
     ]
    },
    {
     "data": {
      "text/plain": [
       "count    15858.000000\n",
       "mean         9.597742\n",
       "std          0.685207\n",
       "min          8.000000\n",
       "25%          9.000000\n",
       "50%         10.000000\n",
       "75%         10.000000\n",
       "max         11.000000\n",
       "dtype: float64"
      ]
     },
     "execution_count": 118,
     "metadata": {},
     "output_type": "execute_result"
    }
   ],
   "source": [
    "real_rtt_1 = get_real_rtt(raw_rtt_1, process_latency_1)\n",
    "real_rtt_1 = remove_outlier_using_turkey_method(real_rtt_1)\n",
    "\n",
    "real_rtt_2 = get_real_rtt(raw_rtt_2, process_latency_2)\n",
    "real_rtt_2 = remove_outlier_using_turkey_method(real_rtt_2)\n",
    "\n",
    "real_rtt = np.append(real_rtt_1.to_numpy(), real_rtt_2.to_numpy())\n",
    "real_rtt = pd.Series(real_rtt)\n",
    "real_rtt.describe()"
   ]
  },
  {
   "cell_type": "code",
   "execution_count": 117,
   "id": "24e1a646-02d7-4434-87ea-4cfaaa5e7c5f",
   "metadata": {},
   "outputs": [
    {
     "data": {
      "text/plain": [
       "count    15858.000000\n",
       "mean         4.798871\n",
       "std          0.342604\n",
       "min          4.000000\n",
       "25%          4.500000\n",
       "50%          5.000000\n",
       "75%          5.000000\n",
       "max          5.500000\n",
       "dtype: float64"
      ]
     },
     "execution_count": 117,
     "metadata": {},
     "output_type": "execute_result"
    }
   ],
   "source": [
    "latencies = real_rtt / 2\n",
    "latencies.describe()"
   ]
  },
  {
   "cell_type": "markdown",
   "id": "7c0402e5-9485-4a6c-9b60-c4ae4103d554",
   "metadata": {},
   "source": [
    "# Old HILS \"Scientific\" Latency\n",
    "\n",
    "This section calculates the latency of the old HILS connector implementation. The details of the implementation can be seen in the paper or the book. This part only calculates latency during the process of sending data from a \"sender\" (produces sensor data) to a \"receiver\" (consumer of sensor data). The latency is only scientific and not real because the HTTP latency is not accounted for."
   ]
  }
 ],
 "metadata": {
  "kernelspec": {
   "display_name": "Python 3 (ipykernel)",
   "language": "python",
   "name": "python3"
  },
  "language_info": {
   "codemirror_mode": {
    "name": "ipython",
    "version": 3
   },
   "file_extension": ".py",
   "mimetype": "text/x-python",
   "name": "python",
   "nbconvert_exporter": "python",
   "pygments_lexer": "ipython3",
   "version": "3.11.3"
  }
 },
 "nbformat": 4,
 "nbformat_minor": 5
}
